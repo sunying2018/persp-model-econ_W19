{
 "cells": [
  {
   "cell_type": "markdown",
   "metadata": {},
   "source": [
    "# Problem Set 6\n",
    "## Ying Sun"
   ]
  },
  {
   "cell_type": "code",
   "execution_count": 1,
   "metadata": {},
   "outputs": [],
   "source": [
    "# import packages\n",
    "import pandas as pd\n",
    "import statsmodels.api as sm\n",
    "import numpy as np\n",
    "import warnings\n",
    "warnings.filterwarnings(\"ignore\")"
   ]
  },
  {
   "cell_type": "markdown",
   "metadata": {},
   "source": [
    "## 1. Multiple linear regression "
   ]
  },
  {
   "cell_type": "markdown",
   "metadata": {},
   "source": [
    "(a) Import the data"
   ]
  },
  {
   "cell_type": "code",
   "execution_count": 2,
   "metadata": {},
   "outputs": [
    {
     "data": {
      "text/html": [
       "<div>\n",
       "<style scoped>\n",
       "    .dataframe tbody tr th:only-of-type {\n",
       "        vertical-align: middle;\n",
       "    }\n",
       "\n",
       "    .dataframe tbody tr th {\n",
       "        vertical-align: top;\n",
       "    }\n",
       "\n",
       "    .dataframe thead th {\n",
       "        text-align: right;\n",
       "    }\n",
       "</style>\n",
       "<table border=\"1\" class=\"dataframe\">\n",
       "  <thead>\n",
       "    <tr style=\"text-align: right;\">\n",
       "      <th></th>\n",
       "      <th>mpg</th>\n",
       "      <th>cylinders</th>\n",
       "      <th>displacement</th>\n",
       "      <th>horsepower</th>\n",
       "      <th>weight</th>\n",
       "      <th>acceleration</th>\n",
       "      <th>year</th>\n",
       "      <th>origin</th>\n",
       "      <th>name</th>\n",
       "    </tr>\n",
       "  </thead>\n",
       "  <tbody>\n",
       "    <tr>\n",
       "      <th>0</th>\n",
       "      <td>18.0</td>\n",
       "      <td>8</td>\n",
       "      <td>307.0</td>\n",
       "      <td>130.0</td>\n",
       "      <td>3504</td>\n",
       "      <td>12.0</td>\n",
       "      <td>70</td>\n",
       "      <td>1</td>\n",
       "      <td>chevrolet chevelle malibu</td>\n",
       "    </tr>\n",
       "    <tr>\n",
       "      <th>1</th>\n",
       "      <td>15.0</td>\n",
       "      <td>8</td>\n",
       "      <td>350.0</td>\n",
       "      <td>165.0</td>\n",
       "      <td>3693</td>\n",
       "      <td>11.5</td>\n",
       "      <td>70</td>\n",
       "      <td>1</td>\n",
       "      <td>buick skylark 320</td>\n",
       "    </tr>\n",
       "    <tr>\n",
       "      <th>2</th>\n",
       "      <td>18.0</td>\n",
       "      <td>8</td>\n",
       "      <td>318.0</td>\n",
       "      <td>150.0</td>\n",
       "      <td>3436</td>\n",
       "      <td>11.0</td>\n",
       "      <td>70</td>\n",
       "      <td>1</td>\n",
       "      <td>plymouth satellite</td>\n",
       "    </tr>\n",
       "    <tr>\n",
       "      <th>3</th>\n",
       "      <td>16.0</td>\n",
       "      <td>8</td>\n",
       "      <td>304.0</td>\n",
       "      <td>150.0</td>\n",
       "      <td>3433</td>\n",
       "      <td>12.0</td>\n",
       "      <td>70</td>\n",
       "      <td>1</td>\n",
       "      <td>amc rebel sst</td>\n",
       "    </tr>\n",
       "    <tr>\n",
       "      <th>4</th>\n",
       "      <td>17.0</td>\n",
       "      <td>8</td>\n",
       "      <td>302.0</td>\n",
       "      <td>140.0</td>\n",
       "      <td>3449</td>\n",
       "      <td>10.5</td>\n",
       "      <td>70</td>\n",
       "      <td>1</td>\n",
       "      <td>ford torino</td>\n",
       "    </tr>\n",
       "  </tbody>\n",
       "</table>\n",
       "</div>"
      ],
      "text/plain": [
       "    mpg  cylinders  displacement  horsepower  weight  acceleration  year  \\\n",
       "0  18.0          8         307.0       130.0    3504          12.0    70   \n",
       "1  15.0          8         350.0       165.0    3693          11.5    70   \n",
       "2  18.0          8         318.0       150.0    3436          11.0    70   \n",
       "3  16.0          8         304.0       150.0    3433          12.0    70   \n",
       "4  17.0          8         302.0       140.0    3449          10.5    70   \n",
       "\n",
       "   origin                       name  \n",
       "0       1  chevrolet chevelle malibu  \n",
       "1       1          buick skylark 320  \n",
       "2       1         plymouth satellite  \n",
       "3       1              amc rebel sst  \n",
       "4       1                ford torino  "
      ]
     },
     "execution_count": 2,
     "metadata": {},
     "output_type": "execute_result"
    }
   ],
   "source": [
    "# import the data\n",
    "auto = pd.read_csv('auto.csv', na_values = \"?\")\n",
    "auto.head()"
   ]
  },
  {
   "cell_type": "code",
   "execution_count": 3,
   "metadata": {},
   "outputs": [
    {
     "name": "stdout",
     "output_type": "stream",
     "text": [
      "<class 'pandas.core.frame.DataFrame'>\n",
      "RangeIndex: 397 entries, 0 to 396\n",
      "Data columns (total 9 columns):\n",
      "mpg             397 non-null float64\n",
      "cylinders       397 non-null int64\n",
      "displacement    397 non-null float64\n",
      "horsepower      392 non-null float64\n",
      "weight          397 non-null int64\n",
      "acceleration    397 non-null float64\n",
      "year            397 non-null int64\n",
      "origin          397 non-null int64\n",
      "name            397 non-null object\n",
      "dtypes: float64(4), int64(4), object(1)\n",
      "memory usage: 28.0+ KB\n"
     ]
    }
   ],
   "source": [
    "auto.info()"
   ]
  },
  {
   "cell_type": "code",
   "execution_count": 4,
   "metadata": {},
   "outputs": [],
   "source": [
    "auto.dropna(inplace=True)"
   ]
  },
  {
   "cell_type": "markdown",
   "metadata": {},
   "source": [
    "(b) Produce a scatterplot matrix"
   ]
  },
  {
   "cell_type": "code",
   "execution_count": 5,
   "metadata": {},
   "outputs": [
    {
     "data": {
      "text/plain": [
       "array([[<matplotlib.axes._subplots.AxesSubplot object at 0x120c14ba8>,\n",
       "        <matplotlib.axes._subplots.AxesSubplot object at 0x122c21f28>,\n",
       "        <matplotlib.axes._subplots.AxesSubplot object at 0x122c52470>,\n",
       "        <matplotlib.axes._subplots.AxesSubplot object at 0x122c799e8>,\n",
       "        <matplotlib.axes._subplots.AxesSubplot object at 0x122ca3f60>,\n",
       "        <matplotlib.axes._subplots.AxesSubplot object at 0x122cd1518>,\n",
       "        <matplotlib.axes._subplots.AxesSubplot object at 0x122cfca90>,\n",
       "        <matplotlib.axes._subplots.AxesSubplot object at 0x122d2c080>],\n",
       "       [<matplotlib.axes._subplots.AxesSubplot object at 0x122d2c0b8>,\n",
       "        <matplotlib.axes._subplots.AxesSubplot object at 0x122d7ab38>,\n",
       "        <matplotlib.axes._subplots.AxesSubplot object at 0x122dac0f0>,\n",
       "        <matplotlib.axes._subplots.AxesSubplot object at 0x122dd1668>,\n",
       "        <matplotlib.axes._subplots.AxesSubplot object at 0x122dfabe0>,\n",
       "        <matplotlib.axes._subplots.AxesSubplot object at 0x122e2a198>,\n",
       "        <matplotlib.axes._subplots.AxesSubplot object at 0x122e51710>,\n",
       "        <matplotlib.axes._subplots.AxesSubplot object at 0x122e76c88>],\n",
       "       [<matplotlib.axes._subplots.AxesSubplot object at 0x122eaa240>,\n",
       "        <matplotlib.axes._subplots.AxesSubplot object at 0x122ed17b8>,\n",
       "        <matplotlib.axes._subplots.AxesSubplot object at 0x122ef7d30>,\n",
       "        <matplotlib.axes._subplots.AxesSubplot object at 0x122f292e8>,\n",
       "        <matplotlib.axes._subplots.AxesSubplot object at 0x122f4f860>,\n",
       "        <matplotlib.axes._subplots.AxesSubplot object at 0x122f75dd8>,\n",
       "        <matplotlib.axes._subplots.AxesSubplot object at 0x122faa390>,\n",
       "        <matplotlib.axes._subplots.AxesSubplot object at 0x122fcd908>],\n",
       "       [<matplotlib.axes._subplots.AxesSubplot object at 0x122ff6e80>,\n",
       "        <matplotlib.axes._subplots.AxesSubplot object at 0x123026438>,\n",
       "        <matplotlib.axes._subplots.AxesSubplot object at 0x12304e9b0>,\n",
       "        <matplotlib.axes._subplots.AxesSubplot object at 0x123075f28>,\n",
       "        <matplotlib.axes._subplots.AxesSubplot object at 0x1230a64e0>,\n",
       "        <matplotlib.axes._subplots.AxesSubplot object at 0x1230caa58>,\n",
       "        <matplotlib.axes._subplots.AxesSubplot object at 0x1230f6fd0>,\n",
       "        <matplotlib.axes._subplots.AxesSubplot object at 0x123124588>],\n",
       "       [<matplotlib.axes._subplots.AxesSubplot object at 0x12314db00>,\n",
       "        <matplotlib.axes._subplots.AxesSubplot object at 0x12317d0b8>,\n",
       "        <matplotlib.axes._subplots.AxesSubplot object at 0x1231a4630>,\n",
       "        <matplotlib.axes._subplots.AxesSubplot object at 0x1231cbba8>,\n",
       "        <matplotlib.axes._subplots.AxesSubplot object at 0x1231fd160>,\n",
       "        <matplotlib.axes._subplots.AxesSubplot object at 0x1232236d8>,\n",
       "        <matplotlib.axes._subplots.AxesSubplot object at 0x12324bc50>,\n",
       "        <matplotlib.axes._subplots.AxesSubplot object at 0x12327b208>],\n",
       "       [<matplotlib.axes._subplots.AxesSubplot object at 0x1232a4780>,\n",
       "        <matplotlib.axes._subplots.AxesSubplot object at 0x1232cacf8>,\n",
       "        <matplotlib.axes._subplots.AxesSubplot object at 0x1232fb2b0>,\n",
       "        <matplotlib.axes._subplots.AxesSubplot object at 0x123322828>,\n",
       "        <matplotlib.axes._subplots.AxesSubplot object at 0x123349da0>,\n",
       "        <matplotlib.axes._subplots.AxesSubplot object at 0x123379358>,\n",
       "        <matplotlib.axes._subplots.AxesSubplot object at 0x12339e8d0>,\n",
       "        <matplotlib.axes._subplots.AxesSubplot object at 0x1233c8e48>],\n",
       "       [<matplotlib.axes._subplots.AxesSubplot object at 0x1233f6400>,\n",
       "        <matplotlib.axes._subplots.AxesSubplot object at 0x123421978>,\n",
       "        <matplotlib.axes._subplots.AxesSubplot object at 0x123448ef0>,\n",
       "        <matplotlib.axes._subplots.AxesSubplot object at 0x1234774a8>,\n",
       "        <matplotlib.axes._subplots.AxesSubplot object at 0x12349da20>,\n",
       "        <matplotlib.axes._subplots.AxesSubplot object at 0x1234c6f98>,\n",
       "        <matplotlib.axes._subplots.AxesSubplot object at 0x1234f5550>,\n",
       "        <matplotlib.axes._subplots.AxesSubplot object at 0x12351eac8>],\n",
       "       [<matplotlib.axes._subplots.AxesSubplot object at 0x12354e080>,\n",
       "        <matplotlib.axes._subplots.AxesSubplot object at 0x1235745f8>,\n",
       "        <matplotlib.axes._subplots.AxesSubplot object at 0x12359bb70>,\n",
       "        <matplotlib.axes._subplots.AxesSubplot object at 0x1235cd128>,\n",
       "        <matplotlib.axes._subplots.AxesSubplot object at 0x1235f26a0>,\n",
       "        <matplotlib.axes._subplots.AxesSubplot object at 0x12361cc18>,\n",
       "        <matplotlib.axes._subplots.AxesSubplot object at 0x12364d1d0>,\n",
       "        <matplotlib.axes._subplots.AxesSubplot object at 0x123674748>]],\n",
       "      dtype=object)"
      ]
     },
     "execution_count": 5,
     "metadata": {},
     "output_type": "execute_result"
    },
    {
     "data": {
      "image/png": "[encoded data removed]",
      "text/plain": [
       "<Figure size 432x432 with 64 Axes>"
      ]
     },
     "metadata": {
      "needs_background": "light"
     },
     "output_type": "display_data"
    }
   ],
   "source": [
    "from pandas.plotting import scatter_matrix\n",
    "%matplotlib inline\n",
    "scatter_matrix(auto[[\"mpg\", \"cylinders\", \"displacement\", \"horsepower\", \"weight\", \"acceleration\",\"year\", \"origin\"]], \n",
    "               alpha=0.3, figsize=(6, 6), diagonal='kde')"
   ]
  },
  {
   "cell_type": "markdown",
   "metadata": {},
   "source": [
    "(c) Compute the correlation matrix"
   ]
  },
  {
   "cell_type": "code",
   "execution_count": 6,
   "metadata": {},
   "outputs": [
    {
     "data": {
      "text/html": [
       "<div>\n",
       "<style scoped>\n",
       "    .dataframe tbody tr th:only-of-type {\n",
       "        vertical-align: middle;\n",
       "    }\n",
       "\n",
       "    .dataframe tbody tr th {\n",
       "        vertical-align: top;\n",
       "    }\n",
       "\n",
       "    .dataframe thead th {\n",
       "        text-align: right;\n",
       "    }\n",
       "</style>\n",
       "<table border=\"1\" class=\"dataframe\">\n",
       "  <thead>\n",
       "    <tr style=\"text-align: right;\">\n",
       "      <th></th>\n",
       "      <th>mpg</th>\n",
       "      <th>cylinders</th>\n",
       "      <th>displacement</th>\n",
       "      <th>horsepower</th>\n",
       "      <th>weight</th>\n",
       "      <th>acceleration</th>\n",
       "      <th>year</th>\n",
       "      <th>origin</th>\n",
       "    </tr>\n",
       "  </thead>\n",
       "  <tbody>\n",
       "    <tr>\n",
       "      <th>mpg</th>\n",
       "      <td>1.000000</td>\n",
       "      <td>-0.777618</td>\n",
       "      <td>-0.805127</td>\n",
       "      <td>-0.778427</td>\n",
       "      <td>-0.832244</td>\n",
       "      <td>0.423329</td>\n",
       "      <td>0.580541</td>\n",
       "      <td>0.565209</td>\n",
       "    </tr>\n",
       "    <tr>\n",
       "      <th>cylinders</th>\n",
       "      <td>-0.777618</td>\n",
       "      <td>1.000000</td>\n",
       "      <td>0.950823</td>\n",
       "      <td>0.842983</td>\n",
       "      <td>0.897527</td>\n",
       "      <td>-0.504683</td>\n",
       "      <td>-0.345647</td>\n",
       "      <td>-0.568932</td>\n",
       "    </tr>\n",
       "    <tr>\n",
       "      <th>displacement</th>\n",
       "      <td>-0.805127</td>\n",
       "      <td>0.950823</td>\n",
       "      <td>1.000000</td>\n",
       "      <td>0.897257</td>\n",
       "      <td>0.932994</td>\n",
       "      <td>-0.543800</td>\n",
       "      <td>-0.369855</td>\n",
       "      <td>-0.614535</td>\n",
       "    </tr>\n",
       "    <tr>\n",
       "      <th>horsepower</th>\n",
       "      <td>-0.778427</td>\n",
       "      <td>0.842983</td>\n",
       "      <td>0.897257</td>\n",
       "      <td>1.000000</td>\n",
       "      <td>0.864538</td>\n",
       "      <td>-0.689196</td>\n",
       "      <td>-0.416361</td>\n",
       "      <td>-0.455171</td>\n",
       "    </tr>\n",
       "    <tr>\n",
       "      <th>weight</th>\n",
       "      <td>-0.832244</td>\n",
       "      <td>0.897527</td>\n",
       "      <td>0.932994</td>\n",
       "      <td>0.864538</td>\n",
       "      <td>1.000000</td>\n",
       "      <td>-0.416839</td>\n",
       "      <td>-0.309120</td>\n",
       "      <td>-0.585005</td>\n",
       "    </tr>\n",
       "    <tr>\n",
       "      <th>acceleration</th>\n",
       "      <td>0.423329</td>\n",
       "      <td>-0.504683</td>\n",
       "      <td>-0.543800</td>\n",
       "      <td>-0.689196</td>\n",
       "      <td>-0.416839</td>\n",
       "      <td>1.000000</td>\n",
       "      <td>0.290316</td>\n",
       "      <td>0.212746</td>\n",
       "    </tr>\n",
       "    <tr>\n",
       "      <th>year</th>\n",
       "      <td>0.580541</td>\n",
       "      <td>-0.345647</td>\n",
       "      <td>-0.369855</td>\n",
       "      <td>-0.416361</td>\n",
       "      <td>-0.309120</td>\n",
       "      <td>0.290316</td>\n",
       "      <td>1.000000</td>\n",
       "      <td>0.181528</td>\n",
       "    </tr>\n",
       "    <tr>\n",
       "      <th>origin</th>\n",
       "      <td>0.565209</td>\n",
       "      <td>-0.568932</td>\n",
       "      <td>-0.614535</td>\n",
       "      <td>-0.455171</td>\n",
       "      <td>-0.585005</td>\n",
       "      <td>0.212746</td>\n",
       "      <td>0.181528</td>\n",
       "      <td>1.000000</td>\n",
       "    </tr>\n",
       "  </tbody>\n",
       "</table>\n",
       "</div>"
      ],
      "text/plain": [
       "                   mpg  cylinders  displacement  horsepower    weight  \\\n",
       "mpg           1.000000  -0.777618     -0.805127   -0.778427 -0.832244   \n",
       "cylinders    -0.777618   1.000000      0.950823    0.842983  0.897527   \n",
       "displacement -0.805127   0.950823      1.000000    0.897257  0.932994   \n",
       "horsepower   -0.778427   0.842983      0.897257    1.000000  0.864538   \n",
       "weight       -0.832244   0.897527      0.932994    0.864538  1.000000   \n",
       "acceleration  0.423329  -0.504683     -0.543800   -0.689196 -0.416839   \n",
       "year          0.580541  -0.345647     -0.369855   -0.416361 -0.309120   \n",
       "origin        0.565209  -0.568932     -0.614535   -0.455171 -0.585005   \n",
       "\n",
       "              acceleration      year    origin  \n",
       "mpg               0.423329  0.580541  0.565209  \n",
       "cylinders        -0.504683 -0.345647 -0.568932  \n",
       "displacement     -0.543800 -0.369855 -0.614535  \n",
       "horsepower       -0.689196 -0.416361 -0.455171  \n",
       "weight           -0.416839 -0.309120 -0.585005  \n",
       "acceleration      1.000000  0.290316  0.212746  \n",
       "year              0.290316  1.000000  0.181528  \n",
       "origin            0.212746  0.181528  1.000000  "
      ]
     },
     "execution_count": 6,
     "metadata": {},
     "output_type": "execute_result"
    }
   ],
   "source": [
    "auto.corr()"
   ]
  },
  {
   "cell_type": "markdown",
   "metadata": {},
   "source": [
    "(d) Estimate the multiple linear regression model"
   ]
  },
  {
   "cell_type": "code",
   "execution_count": 7,
   "metadata": {},
   "outputs": [
    {
     "name": "stdout",
     "output_type": "stream",
     "text": [
      "                            OLS Regression Results                            \n",
      "==============================================================================\n",
      "Dep. Variable:                    mpg   R-squared:                       0.821\n",
      "Model:                            OLS   Adj. R-squared:                  0.818\n",
      "Method:                 Least Squares   F-statistic:                     252.4\n",
      "Date:                Wed, 20 Feb 2019   Prob (F-statistic):          2.04e-139\n",
      "Time:                        01:37:24   Log-Likelihood:                -1023.5\n",
      "No. Observations:                 392   AIC:                             2063.\n",
      "Df Residuals:                     384   BIC:                             2095.\n",
      "Df Model:                           7                                         \n",
      "Covariance Type:            nonrobust                                         \n",
      "================================================================================\n",
      "                   coef    std err          t      P>|t|      [0.025      0.975]\n",
      "--------------------------------------------------------------------------------\n",
      "const          -17.2184      4.644     -3.707      0.000     -26.350      -8.087\n",
      "cylinders       -0.4934      0.323     -1.526      0.128      -1.129       0.142\n",
      "displacement     0.0199      0.008      2.647      0.008       0.005       0.035\n",
      "horsepower      -0.0170      0.014     -1.230      0.220      -0.044       0.010\n",
      "weight          -0.0065      0.001     -9.929      0.000      -0.008      -0.005\n",
      "acceleration     0.0806      0.099      0.815      0.415      -0.114       0.275\n",
      "year             0.7508      0.051     14.729      0.000       0.651       0.851\n",
      "origin           1.4261      0.278      5.127      0.000       0.879       1.973\n",
      "==============================================================================\n",
      "Omnibus:                       31.906   Durbin-Watson:                   1.309\n",
      "Prob(Omnibus):                  0.000   Jarque-Bera (JB):               53.100\n",
      "Skew:                           0.529   Prob(JB):                     2.95e-12\n",
      "Kurtosis:                       4.460   Cond. No.                     8.59e+04\n",
      "==============================================================================\n",
      "\n",
      "Warnings:\n",
      "[1] Standard Errors assume that the covariance matrix of the errors is correctly specified.\n",
      "[2] The condition number is large, 8.59e+04. This might indicate that there are\n",
      "strong multicollinearity or other numerical problems.\n"
     ]
    }
   ],
   "source": [
    "Y = auto.mpg\n",
    "X = auto[['cylinders', 'displacement','horsepower', 'weight', 'acceleration', 'year', 'origin']]\n",
    "X = sm.add_constant(X)\n",
    "model = sm.OLS(Y,X)\n",
    "results = model.fit()\n",
    "print(results.summary())"
   ]
  },
  {
   "cell_type": "markdown",
   "metadata": {},
   "source": [
    "(i) Coefficients of displacements, weight, year, and origin are statisticaly significant at the 1% level.  \n",
    "(ii) Coefficients of cylinders, horsepower, acceleration are not statisticaly significant at the 10% level.  \n",
    "(iii) Keeping all else constant, a single unit change in year (one year) results in a 0.7508 unit (miles per gallon) increase in MPG."
   ]
  },
  {
   "cell_type": "markdown",
   "metadata": {},
   "source": [
    "(e) Looking at your scatterplot matrix from part (b), what are the three variables that look most likely to have a nonlinear relationship with $mpg_{i}$"
   ]
  },
  {
   "cell_type": "markdown",
   "metadata": {},
   "source": [
    "Based on the scatterplot matrix from part b, displacement, horsepower, and weight look most likely to have a nonlinear relationship with $mpg_{i}$"
   ]
  },
  {
   "cell_type": "code",
   "execution_count": 8,
   "metadata": {},
   "outputs": [
    {
     "name": "stdout",
     "output_type": "stream",
     "text": [
      "                            OLS Regression Results                            \n",
      "==============================================================================\n",
      "Dep. Variable:                    mpg   R-squared:                       0.870\n",
      "Model:                            OLS   Adj. R-squared:                  0.866\n",
      "Method:                 Least Squares   F-statistic:                     230.2\n",
      "Date:                Wed, 20 Feb 2019   Prob (F-statistic):          1.75e-160\n",
      "Time:                        01:37:34   Log-Likelihood:                -962.02\n",
      "No. Observations:                 392   AIC:                             1948.\n",
      "Df Residuals:                     380   BIC:                             1996.\n",
      "Df Model:                          11                                         \n",
      "Covariance Type:            nonrobust                                         \n",
      "=================================================================================\n",
      "                    coef    std err          t      P>|t|      [0.025      0.975]\n",
      "---------------------------------------------------------------------------------\n",
      "const            20.1084      6.696      3.003      0.003       6.943      33.274\n",
      "cylinders         0.2519      0.326      0.773      0.440      -0.389       0.893\n",
      "displacement     -0.0169      0.020     -0.828      0.408      -0.057       0.023\n",
      "displacement2  2.257e-05   3.61e-05      0.626      0.532   -4.83e-05    9.35e-05\n",
      "horsepower       -0.1635      0.041     -3.971      0.000      -0.244      -0.083\n",
      "horsepower2       0.0004      0.000      2.943      0.003       0.000       0.001\n",
      "weight           -0.0136      0.003     -5.069      0.000      -0.019      -0.008\n",
      "weight2        1.514e-06   3.69e-07      4.105      0.000    7.89e-07    2.24e-06\n",
      "acceleration     -2.0884      0.557     -3.752      0.000      -3.183      -0.994\n",
      "acceleration2     0.0576      0.016      3.496      0.001       0.025       0.090\n",
      "year              0.7810      0.045     17.512      0.000       0.693       0.869\n",
      "origin            0.6104      0.263      2.320      0.021       0.093       1.128\n",
      "==============================================================================\n",
      "Omnibus:                       33.614   Durbin-Watson:                   1.576\n",
      "Prob(Omnibus):                  0.000   Jarque-Bera (JB):               77.985\n",
      "Skew:                           0.438   Prob(JB):                     1.16e-17\n",
      "Kurtosis:                       5.002   Cond. No.                     5.13e+08\n",
      "==============================================================================\n",
      "\n",
      "Warnings:\n",
      "[1] Standard Errors assume that the covariance matrix of the errors is correctly specified.\n",
      "[2] The condition number is large, 5.13e+08. This might indicate that there are\n",
      "strong multicollinearity or other numerical problems.\n"
     ]
    }
   ],
   "source": [
    "# (i)\n",
    "# create squared variables for new regression model.\n",
    "auto['displacement2'] = auto.displacement.apply(lambda x: x**2)\n",
    "auto['horsepower2'] = auto.horsepower.apply(lambda x: x**2)\n",
    "auto['weight2'] = auto.weight.apply(lambda x: x**2)\n",
    "auto['acceleration2'] = auto.acceleration.apply(lambda x: x**2)\n",
    "# new regression\n",
    "Y = auto.mpg\n",
    "X2 = auto[['cylinders', 'displacement','displacement2', 'horsepower', 'horsepower2', 'weight', 'weight2', 'acceleration', 'acceleration2', 'year', 'origin']]\n",
    "X2 = sm.add_constant(X2)\n",
    "model2 = sm.OLS(Y,X2)\n",
    "results2 = model2.fit()\n",
    "print(results2.summary())"
   ]
  },
  {
   "cell_type": "markdown",
   "metadata": {},
   "source": [
    "(ii) The adjusted R-squared statistic for the second regression model is 0.866. It is better than the adjusted R-squared statistic from the first model (0.818)."
   ]
  },
  {
   "cell_type": "markdown",
   "metadata": {},
   "source": [
    "(iii) The coefficient of displacement and its squared term become nonsignificant at 10% level while the coefficient of displacement is significant at 1% level in the first model."
   ]
  },
  {
   "cell_type": "markdown",
   "metadata": {},
   "source": [
    "(iv) The coefficient for cylinders is still not significant in this model at 10% level."
   ]
  },
  {
   "cell_type": "markdown",
   "metadata": {},
   "source": [
    "(f) Apply the regression model and predict"
   ]
  },
  {
   "cell_type": "code",
   "execution_count": 9,
   "metadata": {},
   "outputs": [
    {
     "data": {
      "text/plain": [
       "38.73211109716943"
      ]
     },
     "execution_count": 9,
     "metadata": {},
     "output_type": "execute_result"
    }
   ],
   "source": [
    "X_ap = [1, 6, 200, 200**2, 100, 100**2, 3100, 3100**2, 15.1, 15.1**2, 99, 1]\n",
    "results2.predict(exog = X_ap)[0]"
   ]
  },
  {
   "cell_type": "markdown",
   "metadata": {},
   "source": [
    "## 2. Classification problem: KNN by hand and in Python"
   ]
  },
  {
   "cell_type": "markdown",
   "metadata": {},
   "source": [
    "(a) Compute the Euclidean distance between each observation and the test pointX1 =X2 =X3 =0."
   ]
  },
  {
   "cell_type": "code",
   "execution_count": 10,
   "metadata": {},
   "outputs": [
    {
     "name": "stdout",
     "output_type": "stream",
     "text": [
      "The Euclidean distance between observation 1 to the test point is 3.0\n",
      "The Euclidean distance between observation 2 to the test point is 2.0\n",
      "The Euclidean distance between observation 3 to the test point is 3.1622776601683795\n",
      "The Euclidean distance between observation 4 to the test point is 2.23606797749979\n",
      "The Euclidean distance between observation 5 to the test point is 1.4142135623730951\n",
      "The Euclidean distance between observation 6 to the test point is 1.7320508075688772\n"
     ]
    }
   ],
   "source": [
    "pts = np.array([[0,3,0],[2,0,0],[0,1,3],[0,1,2],[-1,0,1],[1,1,1]])\n",
    "distance = np.zeros((6,1))\n",
    "for i in range(6):\n",
    "    distance[i,0] = np.sqrt((pts[i,0]-0)**2+(pts[i,1]-0)**2+(pts[i,2]-0)**2)\n",
    "for i in range(6):\n",
    "    print(\"The Euclidean distance between observation\", i+1, \"to the test point is\", distance[i,0])"
   ]
  },
  {
   "cell_type": "markdown",
   "metadata": {},
   "source": [
    "(b) What is our KNN prediction with K = 1? Why?"
   ]
  },
  {
   "cell_type": "markdown",
   "metadata": {},
   "source": [
    "For K = 1, the closest observation to $(X_1=0, X_2=0, X_3=0)$ is observation 5 (Y= Green) so our KNN prediction for K = 1 is Y = green."
   ]
  },
  {
   "cell_type": "markdown",
   "metadata": {},
   "source": [
    "(c) What is our KNN prediction with K = 3? Why?"
   ]
  },
  {
   "cell_type": "markdown",
   "metadata": {},
   "source": [
    "For K = 3, the three nearest observations to the test point are observation 2 (Y = red), observation 5 (Y = green), and observation 6 (Y = red). So our KNN prediction for K = 3 is Y = red."
   ]
  },
  {
   "cell_type": "markdown",
   "metadata": {},
   "source": [
    "(d) If the Bayes (optimal) decision boundary in this problem is highly nonlinear, then would we expect the best value for K to be large or small? Why?"
   ]
  },
  {
   "cell_type": "markdown",
   "metadata": {},
   "source": [
    "If the Bayes Optimal Decision Boundary is highly nonlinear, then we would expect the best value for K to be small. Because the highly nonlinear optimal Bayes decsion implies that the model has low bias and high variance. As K gets larger, the boundary line will involoves more linear characteristics."
   ]
  },
  {
   "cell_type": "markdown",
   "metadata": {},
   "source": [
    "(e) Use Python’s scikit-learn library to estimate the KNN classifier"
   ]
  },
  {
   "cell_type": "code",
   "execution_count": 11,
   "metadata": {},
   "outputs": [
    {
     "name": "stdout",
     "output_type": "stream",
     "text": [
      "The KNN classifier of the test point is Red\n"
     ]
    }
   ],
   "source": [
    "from sklearn.neighbors import KNeighborsClassifier\n",
    "\n",
    "ys = np.array(['Red','Red','Red','Green','Green','Red']).reshape(-1,1)\n",
    "test_point = np.array([1,1,1]).reshape(1,-1)\n",
    "knn = KNeighborsClassifier(n_neighbors=2, weights='distance')\n",
    "cls = knn.fit(pts, ys)\n",
    "print('The KNN classifier of the test point is', cls.predict(test_point)[0])"
   ]
  },
  {
   "cell_type": "markdown",
   "metadata": {},
   "source": [
    "## 3. Multivariable logistic (logit) regression"
   ]
  },
  {
   "cell_type": "markdown",
   "metadata": {},
   "source": [
    "(a) Estimate the logistic regression"
   ]
  },
  {
   "cell_type": "code",
   "execution_count": 12,
   "metadata": {},
   "outputs": [
    {
     "name": "stdout",
     "output_type": "stream",
     "text": [
      "Optimization terminated successfully.\n",
      "         Current function value: 0.200944\n",
      "         Iterations 9\n",
      "                           Logit Regression Results                           \n",
      "==============================================================================\n",
      "Dep. Variable:               mpg high   No. Observations:                  392\n",
      "Model:                          Logit   Df Residuals:                      384\n",
      "Method:                           MLE   Df Model:                            7\n",
      "Date:                Wed, 20 Feb 2019   Pseudo R-squ.:                  0.7101\n",
      "Time:                        01:37:52   Log-Likelihood:                -78.770\n",
      "converged:                       True   LL-Null:                       -271.71\n",
      "                                        LLR p-value:                 2.531e-79\n",
      "================================================================================\n",
      "                   coef    std err          z      P>|z|      [0.025      0.975]\n",
      "--------------------------------------------------------------------------------\n",
      "const          -17.1549      5.764     -2.976      0.003     -28.452      -5.858\n",
      "cylinders       -0.1626      0.423     -0.384      0.701      -0.992       0.667\n",
      "displacement     0.0021      0.012      0.174      0.862      -0.021       0.026\n",
      "horsepower      -0.0410      0.024     -1.718      0.086      -0.088       0.006\n",
      "weight          -0.0043      0.001     -3.784      0.000      -0.007      -0.002\n",
      "acceleration     0.0161      0.141      0.114      0.910      -0.261       0.293\n",
      "year             0.4295      0.075      5.709      0.000       0.282       0.577\n",
      "origin           0.4773      0.362      1.319      0.187      -0.232       1.187\n",
      "================================================================================\n",
      "\n",
      "Possibly complete quasi-separation: A fraction 0.14 of observations can be\n",
      "perfectly predicted. This might indicate that there is complete\n",
      "quasi-separation. In this case some parameters will not be identified.\n"
     ]
    }
   ],
   "source": [
    "auto['mpg high']=np.where(auto['mpg']>np.median(auto['mpg']),1,0)\n",
    "X = auto[['cylinders', 'displacement','horsepower', 'weight', 'acceleration', 'year', 'origin']]\n",
    "X = sm.add_constant(X)\n",
    "log1 = sm.Logit(auto['mpg high'], X)\n",
    "resultslog = log1.fit()\n",
    "print(resultslog.summary())"
   ]
  },
  {
   "cell_type": "markdown",
   "metadata": {},
   "source": [
    "According to the results above, weight and year are the regressors that have coefficients that are statistically significant at the 5% level."
   ]
  },
  {
   "cell_type": "markdown",
   "metadata": {},
   "source": [
    "(b) Split the training data and testing data"
   ]
  },
  {
   "cell_type": "code",
   "execution_count": 13,
   "metadata": {},
   "outputs": [],
   "source": [
    "import sklearn\n",
    "from sklearn.model_selection import train_test_split\n",
    "X_train, X_test, y_train, y_test = train_test_split(X, auto['mpg high'], \n",
    "                                                    test_size = 0.5, random_state=10)"
   ]
  },
  {
   "cell_type": "markdown",
   "metadata": {},
   "source": [
    "(c) Use scikit-learn to estimate a logistic regression model on the training data"
   ]
  },
  {
   "cell_type": "code",
   "execution_count": 14,
   "metadata": {},
   "outputs": [
    {
     "data": {
      "text/html": [
       "<div>\n",
       "<style scoped>\n",
       "    .dataframe tbody tr th:only-of-type {\n",
       "        vertical-align: middle;\n",
       "    }\n",
       "\n",
       "    .dataframe tbody tr th {\n",
       "        vertical-align: top;\n",
       "    }\n",
       "\n",
       "    .dataframe thead th {\n",
       "        text-align: right;\n",
       "    }\n",
       "</style>\n",
       "<table border=\"1\" class=\"dataframe\">\n",
       "  <thead>\n",
       "    <tr style=\"text-align: right;\">\n",
       "      <th></th>\n",
       "      <th>Name</th>\n",
       "      <th>Value</th>\n",
       "    </tr>\n",
       "  </thead>\n",
       "  <tbody>\n",
       "    <tr>\n",
       "      <th>0</th>\n",
       "      <td>const</td>\n",
       "      <td>-0.072986</td>\n",
       "    </tr>\n",
       "    <tr>\n",
       "      <th>1</th>\n",
       "      <td>cylinders</td>\n",
       "      <td>-0.697489</td>\n",
       "    </tr>\n",
       "    <tr>\n",
       "      <th>2</th>\n",
       "      <td>displacement</td>\n",
       "      <td>0.006396</td>\n",
       "    </tr>\n",
       "    <tr>\n",
       "      <th>3</th>\n",
       "      <td>horsepower</td>\n",
       "      <td>-0.037326</td>\n",
       "    </tr>\n",
       "    <tr>\n",
       "      <th>4</th>\n",
       "      <td>weight</td>\n",
       "      <td>-0.005048</td>\n",
       "    </tr>\n",
       "    <tr>\n",
       "      <th>5</th>\n",
       "      <td>acceleration</td>\n",
       "      <td>-0.134720</td>\n",
       "    </tr>\n",
       "    <tr>\n",
       "      <th>6</th>\n",
       "      <td>year</td>\n",
       "      <td>0.299566</td>\n",
       "    </tr>\n",
       "    <tr>\n",
       "      <th>7</th>\n",
       "      <td>origin</td>\n",
       "      <td>-0.156592</td>\n",
       "    </tr>\n",
       "  </tbody>\n",
       "</table>\n",
       "</div>"
      ],
      "text/plain": [
       "           Name     Value\n",
       "0         const -0.072986\n",
       "1     cylinders -0.697489\n",
       "2  displacement  0.006396\n",
       "3    horsepower -0.037326\n",
       "4        weight -0.005048\n",
       "5  acceleration -0.134720\n",
       "6          year  0.299566\n",
       "7        origin -0.156592"
      ]
     },
     "execution_count": 14,
     "metadata": {},
     "output_type": "execute_result"
    }
   ],
   "source": [
    "from sklearn.linear_model import LogisticRegression\n",
    "log2 = LogisticRegression().fit(X_train, y_train)\n",
    "coeff=pd.concat([pd.DataFrame(X.columns,columns=[\"Name\"]),\n",
    "                 pd.DataFrame(np.transpose(log2.coef_),columns=[\"Value\"])],axis = 1)\n",
    "coeff"
   ]
  },
  {
   "cell_type": "markdown",
   "metadata": {},
   "source": [
    "(d) Prediction"
   ]
  },
  {
   "cell_type": "code",
   "execution_count": 15,
   "metadata": {},
   "outputs": [
    {
     "data": {
      "text/plain": [
       "array([1, 1, 0, 1, 0, 0, 0, 0, 1, 1, 0, 0, 1, 1, 0, 0, 0, 1, 0, 0, 0, 1,\n",
       "       0, 0, 0, 0, 0, 1, 0, 0, 0, 0, 1, 0, 0, 1, 1, 0, 0, 1, 0, 0, 1, 0,\n",
       "       0, 0, 0, 1, 0, 1, 1, 0, 0, 0, 0, 1, 0, 1, 1, 1, 1, 1, 0, 0, 1, 1,\n",
       "       0, 1, 0, 0, 0, 1, 1, 1, 1, 0, 0, 0, 1, 1, 1, 0, 0, 0, 0, 1, 0, 0,\n",
       "       1, 1, 1, 0, 1, 1, 0, 1, 1, 0, 0, 1, 1, 1, 1, 0, 0, 1, 1, 0, 1, 0,\n",
       "       0, 0, 0, 1, 0, 0, 1, 0, 0, 1, 0, 1, 1, 1, 1, 0, 0, 1, 0, 1, 0, 1,\n",
       "       1, 0, 1, 1, 1, 0, 1, 1, 1, 0, 0, 1, 1, 1, 1, 1, 0, 1, 0, 1, 0, 0,\n",
       "       1, 0, 1, 1, 1, 0, 1, 1, 1, 1, 1, 0, 0, 1, 0, 1, 0, 0, 1, 0, 1, 0,\n",
       "       1, 0, 0, 1, 0, 1, 0, 1, 1, 1, 1, 0, 1, 1, 0, 1, 1, 0, 1, 0])"
      ]
     },
     "execution_count": 15,
     "metadata": {},
     "output_type": "execute_result"
    }
   ],
   "source": [
    "y_pred = log2.predict(X_test)\n",
    "y_pred"
   ]
  },
  {
   "cell_type": "code",
   "execution_count": 16,
   "metadata": {},
   "outputs": [
    {
     "data": {
      "text/plain": [
       "array([[86, 13],\n",
       "       [12, 85]])"
      ]
     },
     "execution_count": 16,
     "metadata": {},
     "output_type": "execute_result"
    }
   ],
   "source": [
    "from sklearn.metrics import confusion_matrix\n",
    "confusion_matrix = confusion_matrix(y_test, y_pred)\n",
    "confusion_matrix"
   ]
  },
  {
   "cell_type": "code",
   "execution_count": 17,
   "metadata": {},
   "outputs": [
    {
     "name": "stdout",
     "output_type": "stream",
     "text": [
      "              precision    recall  f1-score   support\n",
      "\n",
      "           0       0.88      0.87      0.87        99\n",
      "           1       0.87      0.88      0.87        97\n",
      "\n",
      "   micro avg       0.87      0.87      0.87       196\n",
      "   macro avg       0.87      0.87      0.87       196\n",
      "weighted avg       0.87      0.87      0.87       196\n",
      "\n"
     ]
    }
   ],
   "source": [
    "from sklearn.metrics import classification_report\n",
    "print(classification_report(y_test, y_pred))"
   ]
  },
  {
   "cell_type": "markdown",
   "metadata": {},
   "source": [
    "From the above result, we get the same F1 score, precision and recall, so this model predicts equally well for high mpg and low mpg."
   ]
  }
 ],
 "metadata": {
  "kernelspec": {
   "display_name": "Python 3",
   "language": "python",
   "name": "python3"
  },
  "language_info": {
   "codemirror_mode": {
    "name": "ipython",
    "version": 3
   },
   "file_extension": ".py",
   "mimetype": "text/x-python",
   "name": "python",
   "nbconvert_exporter": "python",
   "pygments_lexer": "ipython3",
   "version": "3.6.6"
  }
 },
 "nbformat": 4,
 "nbformat_minor": 2
}
