{
 "cells": [
  {
   "cell_type": "markdown",
   "metadata": {},
   "source": [
    "# Problem Set 5\n",
    "## Ying Sun"
   ]
  },
  {
   "cell_type": "markdown",
   "metadata": {},
   "source": [
    "## 1. Some income data, lognormal distribution, and GMM "
   ]
  },
  {
   "cell_type": "markdown",
   "metadata": {},
   "source": [
    "**(a)** Plot a histogram of percentages of the income data"
   ]
  },
  {
   "cell_type": "code",
   "execution_count": 1,
   "metadata": {},
   "outputs": [],
   "source": [
    "import numpy as np\n",
    "import scipy.stats as sts\n",
    "import requests\n",
    "import warnings\n",
    "warnings.filterwarnings(\"ignore\")\n",
    "import matplotlib.pyplot as plt\n",
    "%matplotlib inline\n",
    "import scipy.optimize as opt\n",
    "import numpy.linalg as lin"
   ]
  },
  {
   "cell_type": "code",
   "execution_count": 2,
   "metadata": {},
   "outputs": [
    {
     "data": {
      "image/png": "[encoded data removed]",
      "text/plain": [
       "<Figure size 720x432 with 1 Axes>"
      ]
     },
     "metadata": {
      "needs_background": "light"
     },
     "output_type": "display_data"
    }
   ],
   "source": [
    "# Load the income data\n",
    "incomes = np.loadtxt('incomes.txt')\n",
    "# Plot the histogram\n",
    "plt.figure(figsize=(10,6))\n",
    "count, bins, ignored = plt.hist(incomes, 30, edgecolor='black', normed=True)\n",
    "plt.title('MACSS Students Incomes: Graduate in 2018-2020', fontsize=15)\n",
    "plt.xlabel('Income ($)')\n",
    "plt.ylabel('Percentages')\n",
    "plt.xlim([0, 150000])\n",
    "plt.show()"
   ]
  },
  {
   "cell_type": "markdown",
   "metadata": {},
   "source": [
    "**(b)** Estimate the parameters of the lognormal distribution by GMM"
   ]
  },
  {
   "cell_type": "code",
   "execution_count": 3,
   "metadata": {},
   "outputs": [],
   "source": [
    "# Define function that generates values of a lognormal PDF\n",
    "def lognorm_pdf(xvals, mu, sigma):\n",
    "    '''\n",
    "    --------------------------------------------------------------------\n",
    "    Generate pdf values from the lognormal pdf with mean mu and\n",
    "    standard deviation sigma. Note that in this function, the values\n",
    "    of x must be nonnegative and also the sigma must be strictly postive\n",
    "    --------------------------------------------------------------------\n",
    "    INPUTS:\n",
    "    xvals  = (N,) vector, values of the lognormally distributed random\n",
    "             variable\n",
    "    mu     = scalar, mean of the lognormally distributed random variable\n",
    "    sigma  = scalar > 0, standard deviation of the lognormally distributed\n",
    "             random variable\n",
    "    \n",
    "    OTHER FUNCTIONS AND FILES CALLED BY THIS FUNCTION: None\n",
    "    \n",
    "    OBJECTS CREATED WITHIN FUNCTION:\n",
    "    pdf_vals = (N,) vector, lognormal PDF values for mu and sigma\n",
    "               corresponding to xvals data\n",
    "    \n",
    "    FILES CREATED BY THIS FUNCTION: None\n",
    "    \n",
    "    RETURNS: pdf_vals\n",
    "    --------------------------------------------------------------------\n",
    "    '''          \n",
    "    pdf_vals = (1/(xvals * sigma * np.sqrt(2 * np.pi)) * \n",
    "                np.exp( - (np.log(xvals) - mu)**2 / (2 * sigma**2)))\n",
    "    \n",
    "    return pdf_vals"
   ]
  },
  {
   "cell_type": "code",
   "execution_count": 4,
   "metadata": {},
   "outputs": [],
   "source": [
    "def data_moments(xvals):\n",
    "    '''\n",
    "    --------------------------------------------------------------------\n",
    "    This function computes the two data moments for GMM\n",
    "    (mean(data), variance(data)).\n",
    "    --------------------------------------------------------------------\n",
    "    INPUTS:\n",
    "    xvals = (N,) vector, test scores data\n",
    "    \n",
    "    OTHER FUNCTIONS AND FILES CALLED BY THIS FUNCTION: None\n",
    "    \n",
    "    OBJECTS CREATED WITHIN FUNCTION:\n",
    "    mean_data = scalar, mean value of test scores data\n",
    "    var_data  = scalar > 0, variance of test scores data\n",
    "    \n",
    "    FILES CREATED BY THIS FUNCTION: None\n",
    "    \n",
    "    RETURNS: mean_data, var_data\n",
    "    --------------------------------------------------------------------\n",
    "    '''\n",
    "    mean_data = xvals.mean()\n",
    "    std_data = xvals.std()\n",
    "    \n",
    "    return mean_data, std_data"
   ]
  },
  {
   "cell_type": "code",
   "execution_count": 5,
   "metadata": {},
   "outputs": [],
   "source": [
    "def model_moments(mu, sigma):\n",
    "    '''\n",
    "    --------------------------------------------------------------------\n",
    "    This function computes the two model moments for GMM\n",
    "    (mean(model data), variance(model data)).\n",
    "    --------------------------------------------------------------------\n",
    "    INPUTS:\n",
    "    mu     = scalar, mean of the lognormal distributed random variable\n",
    "    sigma  = scalar > 0, standard deviation of the lognormal distributed\n",
    "             random variable\n",
    "    \n",
    "    OBJECTS CREATED WITHIN FUNCTION:\n",
    "    mean_model = scalar, mean value of test scores from model\n",
    "    var_model  = scalar > 0, variance of test scores from model    \n",
    "    std_model  = scalar > 0, standard deviation of test scores from model\n",
    "    \n",
    "    FILES CREATED BY THIS FUNCTION: None\n",
    "    \n",
    "    RETURNS: mean_model, std_model\n",
    "    --------------------------------------------------------------------\n",
    "    '''\n",
    "    \n",
    "    mean_model = np.exp(mu + sigma ** 2/2)\n",
    "    var_model = (np.exp(sigma ** 2) - 1) * np.exp(2 * mu + sigma**2)\n",
    "    std_model = np.sqrt(var_model)\n",
    "    \n",
    "    return mean_model, std_model"
   ]
  },
  {
   "cell_type": "code",
   "execution_count": 6,
   "metadata": {},
   "outputs": [],
   "source": [
    "def err_vec(xvals, mu, sigma, simple):\n",
    "    '''\n",
    "    --------------------------------------------------------------------\n",
    "    This function computes the vector of moment errors (in percent\n",
    "    deviation from the data moment vector) for GMM.\n",
    "    --------------------------------------------------------------------\n",
    "    INPUTS:\n",
    "    xvals  = (N,) vector, test scores data\n",
    "    mu     = scalar, mean of the normally distributed random variable\n",
    "    sigma  = scalar > 0, standard deviation of the normally distributed\n",
    "             random variable\n",
    "\n",
    "    simple = boolean, =True if errors are simple difference, =False if\n",
    "             errors are percent deviation from data moments\n",
    "    \n",
    "    OTHER FUNCTIONS AND FILES CALLED BY THIS FUNCTION:\n",
    "        data_moments()\n",
    "        model_moments()\n",
    "    \n",
    "    OBJECTS CREATED WITHIN FUNCTION:\n",
    "    mean_data  = scalar, mean value of data\n",
    "    var_data   = scalar > 0, variance of data\n",
    "    moms_data  = (2, 1) matrix, column vector of two data moments\n",
    "    mean_model = scalar, mean value from model\n",
    "    var_model  = scalar > 0, variance from model\n",
    "    moms_model = (2, 1) matrix, column vector of two model moments\n",
    "    err_vec    = (2, 1) matrix, column vector of two moment error\n",
    "                 functions\n",
    "    \n",
    "    FILES CREATED BY THIS FUNCTION: None\n",
    "    \n",
    "    RETURNS: err_vec\n",
    "    --------------------------------------------------------------------\n",
    "    '''\n",
    "    mean_data, std_data = data_moments(xvals)\n",
    "    moms_data = np.array([[mean_data], [std_data]])\n",
    "    mean_model, std_model = model_moments(mu, sigma)\n",
    "    moms_model = np.array([[mean_model], [std_model]])\n",
    "    if simple:\n",
    "        err_vec = moms_model - moms_data\n",
    "    else:\n",
    "        err_vec = (moms_model - moms_data) / moms_data\n",
    "    \n",
    "    return err_vec"
   ]
  },
  {
   "cell_type": "code",
   "execution_count": 7,
   "metadata": {},
   "outputs": [],
   "source": [
    "def criterion(params, *args):\n",
    "    '''\n",
    "    --------------------------------------------------------------------\n",
    "    This function computes the GMM weighted sum of squared moment errors\n",
    "    criterion function value given parameter values and an estimate of\n",
    "    the weighting matrix.\n",
    "    --------------------------------------------------------------------\n",
    "    INPUTS:\n",
    "    params = (2,) vector, ([mu, sigma])\n",
    "    mu     = scalar, mean of the normally distributed random variable\n",
    "    sigma  = scalar > 0, standard deviation of the normally distributed\n",
    "             random variable\n",
    "    args   = length 2 tuple, (xvals, W_hat)\n",
    "    xvals  = (N,) vector, values of the truncated normally distributed\n",
    "             random variable\n",
    "    W_hat  = (R, R) matrix, estimate of optimal weighting matrix\n",
    "    \n",
    "\n",
    "    \n",
    "    OBJECTS CREATED WITHIN FUNCTION:\n",
    "    err        = (2, 1) matrix, column vector of two moment error\n",
    "                 functions\n",
    "    crit_val   = scalar > 0, GMM criterion function value\n",
    "    \n",
    "    FILES CREATED BY THIS FUNCTION: None\n",
    "    \n",
    "    RETURNS: crit_val\n",
    "    --------------------------------------------------------------------\n",
    "    '''\n",
    "    mu, sigma = params\n",
    "    xvals, W = args\n",
    "    err = err_vec(xvals, mu, sigma, simple=False)\n",
    "    crit_val = np.dot(np.dot(err.T, W), err) \n",
    "    \n",
    "    return crit_val"
   ]
  },
  {
   "cell_type": "markdown",
   "metadata": {},
   "source": [
    "Estimate the parameters by GMM:"
   ]
  },
  {
   "cell_type": "code",
   "execution_count": 8,
   "metadata": {},
   "outputs": [
    {
     "name": "stdout",
     "output_type": "stream",
     "text": [
      "mu_GMM1= 11.3318807729154  sig_GMM1= 0.20869666648181137\n"
     ]
    }
   ],
   "source": [
    "# Set the initial mu and sigma\n",
    "mu_init = 11 \n",
    "sig_init = 0.5 \n",
    "params_init = np.array([mu_init, sig_init])\n",
    "W_hat = np.eye(2)\n",
    "gmm_args = (incomes, W_hat)\n",
    "results = opt.minimize(criterion, params_init, args=(gmm_args),\n",
    "                       method='L-BFGS-B', bounds=((None, None), (1e-10, None)))\n",
    "mu_GMM1, sig_GMM1 = results.x\n",
    "print('mu_GMM1=', mu_GMM1, ' sig_GMM1=', sig_GMM1)"
   ]
  },
  {
   "cell_type": "markdown",
   "metadata": {},
   "source": [
    "Then we plot the estimated lognormal pdf against the histogram from part a."
   ]
  },
  {
   "cell_type": "code",
   "execution_count": 9,
   "metadata": {},
   "outputs": [
    {
     "data": {
      "text/plain": [
       "<matplotlib.legend.Legend at 0x129e665f8>"
      ]
     },
     "execution_count": 9,
     "metadata": {},
     "output_type": "execute_result"
    },
    {
     "data": {
      "image/png": "[encoded data removed]",
      "text/plain": [
       "<Figure size 720x432 with 1 Axes>"
      ]
     },
     "metadata": {
      "needs_background": "light"
     },
     "output_type": "display_data"
    }
   ],
   "source": [
    "dist_income = np.linspace(0, 150000, 1000)\n",
    "# Plot the histogram of the data\n",
    "plt.figure(figsize=(10,6))\n",
    "count, bins, ignored = plt.hist(incomes, 30, edgecolor='black', normed=True)\n",
    "plt.title('MACSS Students Incomes: Graduate in 2018-2020', fontsize=15)\n",
    "plt.xlabel('Income ($)')\n",
    "plt.ylabel('Percentages')\n",
    "plt.xlim([0,150000]) \n",
    "\n",
    "# Plot the GMM estimated distribution\n",
    "plt.plot(dist_income, lognorm_pdf(dist_income, mu_GMM1, sig_GMM1),\n",
    "         linewidth=2, color='g', label='part b: $\\mu$={:.4f},$\\sigma$={:.4f}'.\\\n",
    "         format(mu_GMM1, sig_GMM1))\n",
    "plt.legend(loc='upper left')"
   ]
  },
  {
   "cell_type": "code",
   "execution_count": 10,
   "metadata": {},
   "outputs": [
    {
     "name": "stdout",
     "output_type": "stream",
     "text": [
      "The value of GMM criterion function: 6.995503784495091e-15\n",
      "\n",
      "The two data moments are:\n",
      "The mean of data = 85276.82360625811 , The standard deviation of data = 17992.542128046523\n",
      "\n",
      "The two model moments are:\n",
      "The mean of model = 85276.81764993032 , The standard deviation of model = 17992.541300212713\n",
      "\n",
      "The differences in data and model moments are: diff_mu = 0.005956327790045179, diff_sigma = 0.0008278338100353722\n",
      "\n",
      "The error vector= [-6.98469706e-08 -4.60098303e-08]\n"
     ]
    }
   ],
   "source": [
    "print('The value of GMM criterion function:', float(results.fun))\n",
    "mean_data, std_data = data_moments(incomes)\n",
    "mean_model, std_model = model_moments(mu_GMM1, sig_GMM1)\n",
    "err1 = err_vec(incomes, mu_GMM1, sig_GMM1, False).reshape(2,)\n",
    "print()\n",
    "print('The two data moments are:')\n",
    "print('The mean of data =', mean_data, ', The standard deviation of data =', std_data)\n",
    "print()\n",
    "print('The two model moments are:')\n",
    "print('The mean of model =', mean_model, ', The standard deviation of model =', std_model)\n",
    "print()\n",
    "print('The differences in data and model moments are: diff_mu = {}, diff_sigma = {}'.format(\n",
    "    mean_data - mean_model, std_data- std_model))\n",
    "print()\n",
    "print('The error vector=', err1)"
   ]
  },
  {
   "cell_type": "markdown",
   "metadata": {},
   "source": [
    "**(c)** Perform the two-step GMM estimator"
   ]
  },
  {
   "cell_type": "markdown",
   "metadata": {},
   "source": [
    "First, we calculate the variance covariance matrix."
   ]
  },
  {
   "cell_type": "code",
   "execution_count": 11,
   "metadata": {},
   "outputs": [
    {
     "name": "stdout",
     "output_type": "stream",
     "text": [
      "The variance covariance matrix is:\n",
      "[[2.43929965e-17 1.60682363e-17]\n",
      " [1.60682363e-17 1.05845224e-17]]\n"
     ]
    }
   ],
   "source": [
    "err2 = err_vec(incomes, mu_GMM1, sig_GMM1, False)\n",
    "VCV2 = np.dot(err2, err2.T) / incomes.shape[0]\n",
    "print('The variance covariance matrix is:')\n",
    "print(VCV2)"
   ]
  },
  {
   "cell_type": "markdown",
   "metadata": {},
   "source": [
    "Then we calculate the optimal weighting matrix:"
   ]
  },
  {
   "cell_type": "code",
   "execution_count": 12,
   "metadata": {},
   "outputs": [
    {
     "name": "stdout",
     "output_type": "stream",
     "text": [
      "The optimal weighting matrix is:\n",
      "[[1.99382553e+16 1.31337943e+16]\n",
      " [1.31337943e+16 8.65153695e+15]]\n"
     ]
    }
   ],
   "source": [
    "W_hat2 = lin.pinv(VCV2) \n",
    "print('The optimal weighting matrix is:')\n",
    "print(W_hat2)"
   ]
  },
  {
   "cell_type": "markdown",
   "metadata": {},
   "source": [
    "Next we do the two-step GMM estimation:"
   ]
  },
  {
   "cell_type": "code",
   "execution_count": 13,
   "metadata": {},
   "outputs": [
    {
     "name": "stdout",
     "output_type": "stream",
     "text": [
      "mu_GMM2= 11.331880811066142  sig_GMM2= 0.20869667679522338\n"
     ]
    }
   ],
   "source": [
    "params_init = np.array([mu_GMM1, sig_GMM1])\n",
    "gmm_args = (incomes, W_hat2)\n",
    "results2 = opt.minimize(criterion, params_init, args=(gmm_args),\n",
    "                       method='L-BFGS-B', bounds=((None, None), (1e-10, None)))\n",
    "mu_GMM2, sig_GMM2 = results2.x\n",
    "print('mu_GMM2=', mu_GMM2, ' sig_GMM2=', sig_GMM2)"
   ]
  },
  {
   "cell_type": "markdown",
   "metadata": {},
   "source": [
    "Now we plot this estimation against the histogram from part(a) and the estimation from part(b):"
   ]
  },
  {
   "cell_type": "code",
   "execution_count": 14,
   "metadata": {},
   "outputs": [
    {
     "data": {
      "text/plain": [
       "<matplotlib.legend.Legend at 0x129f09400>"
      ]
     },
     "execution_count": 14,
     "metadata": {},
     "output_type": "execute_result"
    },
    {
     "data": {
      "image/png": "[encoded data removed]",
      "text/plain": [
       "<Figure size 720x432 with 1 Axes>"
      ]
     },
     "metadata": {
      "needs_background": "light"
     },
     "output_type": "display_data"
    }
   ],
   "source": [
    "# plot the histogram\n",
    "plt.figure(figsize=(10,6))\n",
    "count, bins, ignored = plt.hist(incomes, 30, edgecolor='black', normed=True)\n",
    "plt.title('MACSS Students Incomes: Graduate in 2018-2020', fontsize=15)\n",
    "plt.xlabel('Income ($)')\n",
    "plt.ylabel('Percentages')\n",
    "plt.xlim([0,150000]) \n",
    "\n",
    "# plot the estimation of part b\n",
    "plt.plot(dist_income, lognorm_pdf(dist_income, mu_GMM1, sig_GMM1),\n",
    "         linewidth=5, color='r', label='part b: $\\mu$={:.4f},$\\sigma$={:.4f}'.\\\n",
    "         format(mu_GMM1, sig_GMM1), linestyle= ':')\n",
    "plt.legend(loc='upper left')\n",
    "\n",
    "# plot the estimation of part c\n",
    "plt.plot(dist_income, lognorm_pdf(dist_income, mu_GMM2, sig_GMM2),\n",
    "         linewidth=2, color='k', label='part c: $\\mu$={:.4f},$\\sigma$={:.4f}'.\\\n",
    "         format(mu_GMM2, sig_GMM2))\n",
    "plt.legend(loc='upper left')"
   ]
  },
  {
   "cell_type": "code",
   "execution_count": 15,
   "metadata": {},
   "outputs": [
    {
     "name": "stdout",
     "output_type": "stream",
     "text": [
      "The value of GMM criterion function: 2.5881047412606994e-05\n",
      "\n",
      "The two data moments are:\n",
      "The mean of data = 85276.82360625811 , The standard deviation of data = 17992.542128046523\n",
      "\n",
      "The two model moments are:\n",
      "The mean of model = 85276.82108685197 , The standard deviation of model = 17992.542934031037\n",
      "\n",
      "The difference in data and model moments are: diff_mu = 0.002519406145438552, diff_sigma = -0.0008059845131356269\n",
      "\n",
      "The error vector= [-2.95438554e-08  4.47954773e-08]\n"
     ]
    }
   ],
   "source": [
    "print('The value of GMM criterion function:', float(results2.fun))\n",
    "mean_data, std_data = data_moments(incomes)\n",
    "mean_model_2, std_model_2 = model_moments(mu_GMM2, sig_GMM2)\n",
    "err3 = err_vec(incomes, mu_GMM2, sig_GMM2, False).reshape(2,)\n",
    "print()\n",
    "print('The two data moments are:')\n",
    "print('The mean of data =', mean_data, ', The standard deviation of data =', std_data)\n",
    "print()\n",
    "print('The two model moments are:')\n",
    "print('The mean of model =', mean_model_2, ', The standard deviation of model =', std_model_2)\n",
    "print()\n",
    "print('The difference in data and model moments are: diff_mu = {}, diff_sigma = {}'.format(\n",
    "    mean_data - mean_model_2, std_data - std_model_2))\n",
    "print()\n",
    "print('The error vector=', err3)"
   ]
  },
  {
   "cell_type": "markdown",
   "metadata": {},
   "source": [
    "**(d)** Estimate the lognormal PDF to fit the data by GMM using different moments."
   ]
  },
  {
   "cell_type": "code",
   "execution_count": 16,
   "metadata": {},
   "outputs": [],
   "source": [
    "def data_moments3(xvals):\n",
    "    '''\n",
    "    --------------------------------------------------------------------\n",
    "    This function computes the three data moments for GMM\n",
    "    (binpct_1, binpct_2, binpct_3).\n",
    "    --------------------------------------------------------------------\n",
    "    INPUTS:\n",
    "    xvals = (N,) vector, test scores data\n",
    "\n",
    "    OTHER FUNCTIONS AND FILES CALLED BY THIS FUNCTION: None\n",
    "\n",
    "    OBJECTS CREATED WITHIN FUNCTION:\n",
    "    bpct_1_dat = scalar in [0, 1], percent of observations\n",
    "                 0 <= x < 75000\n",
    "    bpct_2_dat = scalar in [0, 1], percent of observations\n",
    "                 75000 <= x < 100000\n",
    "    bpct_3_dat = scalar in [0, 1], percent of observations\n",
    "                 100000 <= x \n",
    "\n",
    "\n",
    "    FILES CREATED BY THIS FUNCTION: None\n",
    "\n",
    "    RETURNS: bpct_1, bpct_2, bpct_3\n",
    "    --------------------------------------------------------------------\n",
    "    '''\n",
    "    bpct_1_dat = xvals[xvals < 75000].shape[0] / xvals.shape[0]\n",
    "    bpct_2_dat = (xvals[(xvals >=75000) & (xvals < 100000)].shape[0] / xvals.shape[0])\n",
    "    bpct_3_dat = xvals[xvals >=100000].shape[0] / xvals.shape[0]\n",
    "\n",
    "    return bpct_1_dat, bpct_2_dat, bpct_3_dat\n",
    "\n",
    "\n",
    "def model_moments3(mu, sigma):\n",
    "    '''\n",
    "    --------------------------------------------------------------------\n",
    "    This function computes the three model moments for GMM\n",
    "    (binpct_1, binpct_2, binpct_3).\n",
    "    --------------------------------------------------------------------\n",
    "    INPUTS:\n",
    "    mu     = scalar, mean of the normally distributed random variable\n",
    "    sigma  = scalar > 0, standard deviation of the normally distributed\n",
    "             random variable\n",
    "\n",
    "    \n",
    "    OTHER FUNCTIONS AND FILES CALLED BY THIS FUNCTION:\n",
    "        sts.norm.cdf\n",
    "\n",
    "    \n",
    "    OBJECTS CREATED WITHIN FUNCTION:\n",
    "    bpct_1_mod = scalar in [0, 1], percent of model observations in\n",
    "                 bin 1\n",
    "    bpct_2_mod = scalar in [0, 1], percent of model observations in\n",
    "                 bin 2\n",
    "    bpct_3_mod = scalar in [0, 1], percent of model observations in\n",
    "                 bin 3\n",
    "\n",
    "    \n",
    "    FILES CREATED BY THIS FUNCTION: None\n",
    "    \n",
    "    RETURNS: bpct_1_mod, bpct_2_mod, bpct_3_mod\n",
    "    --------------------------------------------------------------------\n",
    "    '''\n",
    "\n",
    "    bpct_1_mod = sts.norm.cdf(np.log(75000), loc = mu, scale = sigma)\n",
    "    bpct_2_mod = sts.norm.cdf(np.log(100000), loc = mu, scale = sigma) - bpct_1_mod\n",
    "    bpct_3_mod = 1 - sts.norm.cdf(np.log(100000), loc = mu, scale = sigma)\n",
    "    \n",
    "    return bpct_1_mod, bpct_2_mod, bpct_3_mod\n",
    "\n",
    "\n",
    "def err_vec3(xvals, mu, sigma, simple):\n",
    "    '''\n",
    "    --------------------------------------------------------------------\n",
    "    This function computes the vector of moment errors (in percent\n",
    "    deviation from the data moment vector) for GMM.\n",
    "    --------------------------------------------------------------------\n",
    "    INPUTS:\n",
    "    xvals  = (N,) vector, test scores data\n",
    "    mu     = scalar, mean of the normally distributed random variable\n",
    "    sigma  = scalar > 0, standard deviation of the normally distributed\n",
    "             random variable\n",
    "    simple = boolean, =True if errors are simple difference, =False if\n",
    "             errors are percent deviation from data moments\n",
    "    \n",
    "    OTHER FUNCTIONS AND FILES CALLED BY THIS FUNCTION:\n",
    "        data_moments3()\n",
    "        model_moments3()\n",
    "    \n",
    "    OBJECTS CREATED WITHIN FUNCTION:\n",
    "    mean_data  = scalar, mean value of data\n",
    "    var_data   = scalar > 0, variance of data\n",
    "    moms_data  = (2, 1) matrix, column vector of two data moments\n",
    "    mean_model = scalar, mean value from model\n",
    "    var_model  = scalar > 0, variance from model\n",
    "    moms_model = (2, 1) matrix, column vector of two model moments\n",
    "    err_vec    = (2, 1) matrix, column vector of two moment error\n",
    "                 functions\n",
    "    \n",
    "    FILES CREATED BY THIS FUNCTION: None\n",
    "    \n",
    "    RETURNS: err_vec\n",
    "    --------------------------------------------------------------------\n",
    "    '''\n",
    "    bpct_1_dat, bpct_2_dat, bpct_3_dat = data_moments3(xvals)\n",
    "    moms_data = np.array([[bpct_1_dat], [bpct_2_dat], [bpct_3_dat]])\n",
    "    bpct_1_mod, bpct_2_mod, bpct_3_mod = model_moments3(mu, sigma)\n",
    "    moms_model = np.array([[bpct_1_mod], [bpct_2_mod], [bpct_3_mod]])\n",
    "    if simple:\n",
    "        err_vec = moms_model - moms_data\n",
    "    else:\n",
    "        err_vec = 100 * ((moms_model - moms_data) / moms_data)\n",
    "    \n",
    "    return err_vec\n",
    "\n",
    "def criterion3(params, *args):\n",
    "    '''\n",
    "    --------------------------------------------------------------------\n",
    "    This function computes the GMM weighted sum of squared moment errors\n",
    "    criterion function value given parameter values and an estimate of\n",
    "    the weighting matrix.\n",
    "    --------------------------------------------------------------------\n",
    "    INPUTS:\n",
    "    params = (2,) vector, ([mu, sigma])\n",
    "    mu     = scalar, mean of the normally distributed random variable\n",
    "    sigma  = scalar > 0, standard deviation of the normally distributed\n",
    "             random variable\n",
    "    args   = length 2 tuple, (xvals, W_hat)\n",
    "    xvals  = (N,) vector, values of the truncated normally distributed\n",
    "             random variable\n",
    "    W_hat  = (R, R) matrix, estimate of optimal weighting matrix\n",
    "    \n",
    "    OTHER FUNCTIONS AND FILES CALLED BY THIS FUNCTION:\n",
    "        err_vec3()\n",
    "    \n",
    "    OBJECTS CREATED WITHIN FUNCTION:\n",
    "    err        = (3, 1) matrix, column vector of three moment error\n",
    "                 functions\n",
    "    crit_val   = scalar > 0, GMM criterion function value\n",
    "    \n",
    "    FILES CREATED BY THIS FUNCTION: None\n",
    "    \n",
    "    RETURNS: crit_val\n",
    "    --------------------------------------------------------------------\n",
    "    '''\n",
    "    mu, sigma = params\n",
    "    xvals, W = args\n",
    "    err = err_vec3(xvals, mu, sigma, simple=False)\n",
    "    crit_val = np.dot(np.dot(err.T, W), err) \n",
    "    \n",
    "    return crit_val"
   ]
  },
  {
   "cell_type": "markdown",
   "metadata": {},
   "source": [
    "GMM estimation of three moments:"
   ]
  },
  {
   "cell_type": "code",
   "execution_count": 17,
   "metadata": {},
   "outputs": [
    {
     "name": "stdout",
     "output_type": "stream",
     "text": [
      "mu_GMM1_3= 11.335681327424783  sig_GMM1_3= 0.2105984537206961\n"
     ]
    }
   ],
   "source": [
    "mu_init = 11\n",
    "sig_init = 0.5\n",
    "params_init = np.array([mu_init, sig_init])\n",
    "W_hat = np.eye(3)\n",
    "gmm_args = (incomes, W_hat)\n",
    "results_3 = opt.minimize(criterion3, params_init, args=(gmm_args),\n",
    "                       method='L-BFGS-B', bounds=((1e-10, None), (1e-10, None)))\n",
    "mu_GMM1_3, sig_GMM1_3 = results_3.x\n",
    "print('mu_GMM1_3=', mu_GMM1_3, ' sig_GMM1_3=', sig_GMM1_3)"
   ]
  },
  {
   "cell_type": "markdown",
   "metadata": {},
   "source": [
    "Then we plot the estimated result against the histogram of part (a)"
   ]
  },
  {
   "cell_type": "code",
   "execution_count": 18,
   "metadata": {},
   "outputs": [
    {
     "data": {
      "text/plain": [
       "<matplotlib.legend.Legend at 0x12a8ac588>"
      ]
     },
     "execution_count": 18,
     "metadata": {},
     "output_type": "execute_result"
    },
    {
     "data": {
      "image/png": "[encoded data removed]",
      "text/plain": [
       "<Figure size 720x432 with 1 Axes>"
      ]
     },
     "metadata": {
      "needs_background": "light"
     },
     "output_type": "display_data"
    }
   ],
   "source": [
    "# plot the histogram\n",
    "plt.figure(figsize=(10,6))\n",
    "count, bins, ignored = plt.hist(incomes, 30, edgecolor='black', normed=True)\n",
    "plt.title('MACSS Students Incomes: Graduate in 2018-2020', fontsize=15)\n",
    "plt.xlabel('Income ($)')\n",
    "plt.ylabel('Percentages')\n",
    "plt.xlim([0,150000]) \n",
    "\n",
    "# plot the GMM estimated result above\n",
    "dist_income = np.linspace(0, 150000, 1000)\n",
    "plt.plot(dist_income, lognorm_pdf(dist_income, mu_GMM1_3, sig_GMM1_3),\n",
    "         linewidth=2, color='r', label='part d: $\\mu$={:.4f},$\\sigma$={:.4f}'.\\\n",
    "         format(mu_GMM1_3, sig_GMM1_3))\n",
    "plt.legend(loc='upper left')"
   ]
  },
  {
   "cell_type": "code",
   "execution_count": 19,
   "metadata": {},
   "outputs": [
    {
     "name": "stdout",
     "output_type": "stream",
     "text": [
      "The value of GMM criterion function: 2.533788396727552e-11\n",
      "\n",
      "The three data moments are: (0.3, 0.5, 0.2)\n",
      "\n",
      "The three model moments are: (0.3000000036326669, 0.500000005854316, 0.1999999905130171)\n",
      "\n",
      "The error vector= [ 1.21088896e-06  1.17086321e-06 -4.74349146e-06]\n"
     ]
    }
   ],
   "source": [
    "print('The value of GMM criterion function:', float(results_3.fun))\n",
    "bpct_1_dat, bpct_2_dat, bpct_3_dat = data_moments3(incomes)\n",
    "bpct_1_mod, bpct_2_mod, bpct_3_mod = model_moments3(mu_GMM1_3, sig_GMM1_3)\n",
    "err_4 = err_vec3(incomes, mu_GMM1_3, sig_GMM1_3, False).reshape(3,)\n",
    "print()\n",
    "print('The three data moments are:', (bpct_1_dat, bpct_2_dat, bpct_3_dat))\n",
    "print()\n",
    "print('The three model moments are:', (bpct_1_mod, bpct_2_mod, bpct_3_mod))\n",
    "print()\n",
    "print('The error vector=', err_4)"
   ]
  },
  {
   "cell_type": "markdown",
   "metadata": {},
   "source": [
    "**(e)** Perform the two-step GMM estimator by using your estimates from part (d)"
   ]
  },
  {
   "cell_type": "markdown",
   "metadata": {},
   "source": [
    "First we calculate the variance and covariance matrix and the optimal weighting matrix:"
   ]
  },
  {
   "cell_type": "code",
   "execution_count": 20,
   "metadata": {},
   "outputs": [
    {
     "name": "stdout",
     "output_type": "stream",
     "text": [
      "The variance covariance matrix is:\n",
      "[[ 7.33126041e-15  7.08892667e-15 -2.87192073e-14]\n",
      " [ 7.08892667e-15  6.85460324e-15 -2.77698981e-14]\n",
      " [-2.87192073e-14 -2.77698981e-14  1.12503556e-13]]\n",
      "\n",
      "The optimal weighting matrix is:\n",
      "[[ 4.56770398e+11  4.41671920e+11 -1.78933540e+12]\n",
      " [ 4.41671920e+11  4.27072520e+11 -1.73018918e+12]\n",
      " [-1.78933540e+12 -1.73018918e+12  7.00947604e+12]]\n"
     ]
    }
   ],
   "source": [
    "err1_3= err_vec3(incomes, mu_GMM1_3, sig_GMM1_3, False)\n",
    "VCV2_3 = np.dot(err1_3, err1_3.T) / incomes.shape[0]\n",
    "print('The variance covariance matrix is:')\n",
    "print(VCV2_3)\n",
    "print()\n",
    "W_hat2_3 = lin.pinv(VCV2_3) \n",
    "print('The optimal weighting matrix is:')\n",
    "print(W_hat2_3)"
   ]
  },
  {
   "cell_type": "markdown",
   "metadata": {},
   "source": [
    "Then we do two-step GMM estimation:"
   ]
  },
  {
   "cell_type": "code",
   "execution_count": 21,
   "metadata": {},
   "outputs": [
    {
     "name": "stdout",
     "output_type": "stream",
     "text": [
      "mu_GMM2_3= 11.335681328652415  sig_GMM2_3= 0.21059845621179624\n"
     ]
    }
   ],
   "source": [
    "params_init = np.array([mu_GMM1_3, sig_GMM1_3])\n",
    "gmm_args = (incomes, W_hat2_3)\n",
    "results2_3 = opt.minimize(criterion3, params_init, args=(gmm_args),\n",
    "                       method='L-BFGS-B', bounds=((1e-10, None), (1e-10, None)))\n",
    "mu_GMM2_3, sig_GMM2_3 = results2_3.x\n",
    "print('mu_GMM2_3=', mu_GMM2_3, ' sig_GMM2_3=', sig_GMM2_3)"
   ]
  },
  {
   "cell_type": "markdown",
   "metadata": {},
   "source": [
    "Next we plot this estimated results against with part (a) and part(d):"
   ]
  },
  {
   "cell_type": "code",
   "execution_count": 22,
   "metadata": {},
   "outputs": [
    {
     "data": {
      "text/plain": [
       "<matplotlib.legend.Legend at 0x12ab8eb00>"
      ]
     },
     "execution_count": 22,
     "metadata": {},
     "output_type": "execute_result"
    },
    {
     "data": {
      "image/png": "[encoded data removed]",
      "text/plain": [
       "<Figure size 720x432 with 1 Axes>"
      ]
     },
     "metadata": {
      "needs_background": "light"
     },
     "output_type": "display_data"
    }
   ],
   "source": [
    "# plot the histogram\n",
    "plt.figure(figsize=(10,6))\n",
    "count, bins, ignored = plt.hist(incomes, 30, edgecolor='black', normed=True)\n",
    "plt.title('MACSS Students Incomes: Graduate in 2018-2020', fontsize=15)\n",
    "plt.xlabel('Income ($)')\n",
    "plt.ylabel('Percentages')\n",
    "plt.xlim([0,150000]) \n",
    "\n",
    "# plot the GMM estimated result of part d\n",
    "dist_income = np.linspace(0, 150000, 1000)\n",
    "plt.plot(dist_income, lognorm_pdf(dist_income, mu_GMM1_3, sig_GMM1_3),\n",
    "         linewidth=4, color='k', label='part d: $\\mu$={:.4f},$\\sigma$={:.4f}'.\\\n",
    "         format(mu_GMM1_3, sig_GMM1_3), linestyle= ':')\n",
    "plt.legend(loc='upper left')\n",
    "\n",
    "# plot the GMM estimated result of part e\n",
    "plt.plot(dist_income, lognorm_pdf(dist_income, mu_GMM2_3, sig_GMM2_3),\n",
    "         linewidth=2, color='g', label='part e: $\\mu$={:.4f},$\\sigma$={:.4f}'.\\\n",
    "         format(mu_GMM2_3, sig_GMM2_3))\n",
    "plt.legend(loc='upper left')"
   ]
  },
  {
   "cell_type": "code",
   "execution_count": 23,
   "metadata": {},
   "outputs": [
    {
     "name": "stdout",
     "output_type": "stream",
     "text": [
      "The value of GMM criterion function: 59.70685018035181\n",
      "\n",
      "Three data moments are: (0.3, 0.5, 0.2)\n",
      "\n",
      "Three model moments are: (0.3000000037626033, 0.500000001305317, 0.19999999493207976)\n",
      "\n",
      "Error vector= [ 1.25420109e-06  2.61063393e-07 -2.53396013e-06]\n"
     ]
    }
   ],
   "source": [
    "print('The value of GMM criterion function:', float(results2_3.fun))\n",
    "bpct_1_dat2, bpct_2_dat2, bpct_3_dat2 = data_moments3(incomes)\n",
    "bpct_1_mod2, bpct_2_mod2, bpct_3_mod2 = model_moments3(mu_GMM2_3, sig_GMM2_3)\n",
    "err_3_2 = err_vec3(incomes, mu_GMM2_3, sig_GMM2_3, False).reshape(3,)\n",
    "print()\n",
    "print('Three data moments are:', (bpct_1_dat2, bpct_2_dat2, bpct_3_dat2))\n",
    "print()\n",
    "print('Three model moments are:', (bpct_1_mod2, bpct_2_mod2, bpct_3_mod2))\n",
    "print()\n",
    "print('Error vector=', err_3_2)"
   ]
  },
  {
   "cell_type": "markdown",
   "metadata": {},
   "source": [
    "**(f)** Which of the four estimates from part (b), (c), (d) and (e) fits the data best?"
   ]
  },
  {
   "cell_type": "code",
   "execution_count": 24,
   "metadata": {},
   "outputs": [
    {
     "name": "stdout",
     "output_type": "stream",
     "text": [
      "GMM 1:  [11.33188077  0.20869667]\n",
      "GMM 2:  [11.33188081  0.20869668]\n",
      "GMM 3:  [11.33568133  0.21059845]\n",
      "GMM 4:  [11.33568133  0.21059846]\n"
     ]
    }
   ],
   "source": [
    "print('GMM 1: ', results.x)\n",
    "print('GMM 2: ', results2.x)\n",
    "print('GMM 3: ', results_3.x)\n",
    "print('GMM 4: ', results2_3.x)"
   ]
  },
  {
   "cell_type": "markdown",
   "metadata": {},
   "source": [
    "Based on the above results, we can find they are nearly identical and there are only trivial differences among them. From my personal perspective, the model in part (c) fits the data best. Because the three model moments used in (d) and (e) will increase the error so decreases the accuracy. Comparing the models in part (c) and part (b), two step estimation should be more accurate than the identity matrix used in (b)."
   ]
  },
  {
   "cell_type": "markdown",
   "metadata": {},
   "source": [
    "## 2. Linear regression and GMM"
   ]
  },
  {
   "cell_type": "code",
   "execution_count": 25,
   "metadata": {},
   "outputs": [
    {
     "data": {
      "text/html": [
       "<div>\n",
       "<style scoped>\n",
       "    .dataframe tbody tr th:only-of-type {\n",
       "        vertical-align: middle;\n",
       "    }\n",
       "\n",
       "    .dataframe tbody tr th {\n",
       "        vertical-align: top;\n",
       "    }\n",
       "\n",
       "    .dataframe thead th {\n",
       "        text-align: right;\n",
       "    }\n",
       "</style>\n",
       "<table border=\"1\" class=\"dataframe\">\n",
       "  <thead>\n",
       "    <tr style=\"text-align: right;\">\n",
       "      <th></th>\n",
       "      <th>sick</th>\n",
       "      <th>age</th>\n",
       "      <th>children</th>\n",
       "      <th>avgtemp_winter</th>\n",
       "    </tr>\n",
       "  </thead>\n",
       "  <tbody>\n",
       "    <tr>\n",
       "      <th>0</th>\n",
       "      <td>1.67</td>\n",
       "      <td>57.47</td>\n",
       "      <td>3.04</td>\n",
       "      <td>54.10</td>\n",
       "    </tr>\n",
       "    <tr>\n",
       "      <th>1</th>\n",
       "      <td>0.71</td>\n",
       "      <td>26.77</td>\n",
       "      <td>1.20</td>\n",
       "      <td>36.54</td>\n",
       "    </tr>\n",
       "    <tr>\n",
       "      <th>2</th>\n",
       "      <td>1.39</td>\n",
       "      <td>41.85</td>\n",
       "      <td>2.31</td>\n",
       "      <td>32.38</td>\n",
       "    </tr>\n",
       "    <tr>\n",
       "      <th>3</th>\n",
       "      <td>1.37</td>\n",
       "      <td>51.27</td>\n",
       "      <td>2.46</td>\n",
       "      <td>52.94</td>\n",
       "    </tr>\n",
       "    <tr>\n",
       "      <th>4</th>\n",
       "      <td>1.45</td>\n",
       "      <td>44.22</td>\n",
       "      <td>2.72</td>\n",
       "      <td>45.90</td>\n",
       "    </tr>\n",
       "  </tbody>\n",
       "</table>\n",
       "</div>"
      ],
      "text/plain": [
       "   sick    age  children  avgtemp_winter\n",
       "0  1.67  57.47      3.04           54.10\n",
       "1  0.71  26.77      1.20           36.54\n",
       "2  1.39  41.85      2.31           32.38\n",
       "3  1.37  51.27      2.46           52.94\n",
       "4  1.45  44.22      2.72           45.90"
      ]
     },
     "execution_count": 25,
     "metadata": {},
     "output_type": "execute_result"
    }
   ],
   "source": [
    "import pandas as pd\n",
    "sick = pd.read_csv('sick.txt')\n",
    "sick.head()"
   ]
  },
  {
   "cell_type": "code",
   "execution_count": 26,
   "metadata": {},
   "outputs": [],
   "source": [
    "def data_moments4(x):\n",
    "    return x['sick']\n",
    "\n",
    "def model_moments4(x, b):\n",
    "    b0, b1, b2, b3 = b\n",
    "    return b0 + b1 * x['age'] + b2 * x['children'] + b3 * x['avgtemp_winter']\n",
    "\n",
    "def err_vec4(x, b):\n",
    "    return data_moments4(x) - model_moments4(x,b)\n",
    "\n",
    "def criterion4(params, *args):\n",
    "    b = params\n",
    "    x, W = args\n",
    "    err = err_vec4(x,b)\n",
    "    crit_val =err.dot(err.T.dot(W)) \n",
    "    \n",
    "    return crit_val"
   ]
  },
  {
   "cell_type": "code",
   "execution_count": 27,
   "metadata": {},
   "outputs": [
    {
     "name": "stdout",
     "output_type": "stream",
     "text": [
      "beta 0:  0.2516448640151442\n",
      "beta 1:  0.012933471011881827\n",
      "beta 2:  0.4005009841273648\n",
      "beta 3:  -0.009991709739766598\n",
      "The value of criterion function:  0.0018212898060392675\n"
     ]
    }
   ],
   "source": [
    "params_init_4 = np.array([1,0,0,0])\n",
    "W_4 = np.eye(sick.shape[0])\n",
    "gmm_args_4 = (sick, W_4)\n",
    "results_sick = opt.minimize(criterion4, params_init_4, args=(gmm_args_4),\n",
    "                       method='L-BFGS-B')\n",
    "b0,b1,b2,b3 = results_sick.x\n",
    "print('beta 0: ', b0)\n",
    "print('beta 1: ', b1)\n",
    "print('beta 2: ', b2)\n",
    "print('beta 3: ', b3)\n",
    "print('The value of criterion function: ', results_sick.fun)"
   ]
  }
 ],
 "metadata": {
  "kernelspec": {
   "display_name": "Python 3",
   "language": "python",
   "name": "python3"
  },
  "language_info": {
   "codemirror_mode": {
    "name": "ipython",
    "version": 3
   },
   "file_extension": ".py",
   "mimetype": "text/x-python",
   "name": "python",
   "nbconvert_exporter": "python",
   "pygments_lexer": "ipython3",
   "version": "3.6.6"
  }
 },
 "nbformat": 4,
 "nbformat_minor": 2
}
